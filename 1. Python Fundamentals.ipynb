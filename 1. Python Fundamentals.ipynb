{
 "cells": [
  {
   "cell_type": "markdown",
   "metadata": {},
   "source": [
    "## Using Jupyter Notebooks\n",
    "\n",
    "Jupyter is a web based application where you can write python code in cells and run independently. It is a good place to learn how to code as you can split up your solution into managable chunks.\n",
    "\n",
    "Cells can also containt text and images \n",
    "\n",
    "![alt text](./datafiles/download.jfif \"Title\")\n",
    "\n",
    "\n",
    "Lists\n",
    "* Item 1\n",
    "*  Item 2\n",
    "\n",
    "\n",
    "Can run Python Code\n",
    "\"print(\"hello\")\"\n",
    "\n",
    "Or run a system command\n",
    "\n",
    "!dir\n",
    "\n",
    "!conda install sklearn\n",
    "\n",
    "\n",
    "And there are some magic commads\n",
    "\n",
    "%run myscript.py\n",
    "%timeit L = [n ** 2 for n in range(1000)]\n"
   ]
  },
  {
   "cell_type": "code",
   "execution_count": 1,
   "metadata": {},
   "outputs": [
    {
     "name": "stdout",
     "output_type": "stream",
     "text": [
      " Volume in drive C is OS\n",
      " Volume Serial Number is 6279-A7BE\n",
      "\n",
      " Directory of C:\\Users\\PA007588\\DM_Course\n",
      "\n",
      "08.10.2021  12:18    <DIR>          .\n",
      "08.10.2021  12:18    <DIR>          ..\n",
      "08.10.2021  12:14    <DIR>          .ipynb_checkpoints\n",
      "08.10.2021  12:18             1 087 1. Python Fundamentals.ipynb\n",
      "01.10.2021  14:43            35 447 DiskCrawl.ipynb\n",
      "08.10.2021  12:17             4 363 download.jfif\n",
      "01.10.2021  14:23             7 605 String Manipulation.ipynb\n",
      "30.09.2021  08:03            28 485 Well_Filtering.ipynb\n",
      "               5 File(s)         76 987 bytes\n",
      "               3 Dir(s)  105 570 160 640 bytes free\n"
     ]
    }
   ],
   "source": [
    "!dir"
   ]
  },
  {
   "cell_type": "markdown",
   "metadata": {},
   "source": [
    "# Getting Started with Python\n",
    "\n",
    "Python is a general purpose programming language that is nowadays very popular for its Data Sceince and Machine Learning application. But it has always been strong on numberical and scientific programming.\n",
    "\n",
    "We will learn how to use basic Python but go more into Data Sceince workflow for G&G Data Management"
   ]
  },
  {
   "cell_type": "markdown",
   "metadata": {},
   "source": [
    "# Writing a Python Script"
   ]
  },
  {
   "cell_type": "markdown",
   "metadata": {},
   "source": [
    "In other IDEs you will create a script file i.e. app.py, write a set of commands, run and compile. In a Jupyter notbook each Code Cell is a script and can be run independendlly i.e."
   ]
  },
  {
   "cell_type": "code",
   "execution_count": 2,
   "metadata": {},
   "outputs": [
    {
     "name": "stdout",
     "output_type": "stream",
     "text": [
      "hello\n"
     ]
    }
   ],
   "source": [
    "print(\"hello\")"
   ]
  },
  {
   "cell_type": "markdown",
   "metadata": {},
   "source": [
    "## Importing Modules\n",
    "\n",
    "The base Python programming language is supported by a huge number of modules that add functionality to the base language. We will look in detail at Numpy, Pandas and SciKit Learn. \n",
    "\n",
    "There modules needs to be added to your enviroment by installing command line i.e\n",
    "\n",
    "#### conda install pandas\n",
    "\n",
    "And then imported into your script in the first lines\n",
    "\n",
    "#### import pandas as pd"
   ]
  },
  {
   "cell_type": "markdown",
   "metadata": {},
   "source": [
    "# Python Basics"
   ]
  },
  {
   "cell_type": "code",
   "execution_count": 3,
   "metadata": {},
   "outputs": [
    {
     "name": "stdout",
     "output_type": "stream",
     "text": [
      "hello\n"
     ]
    }
   ],
   "source": [
    "# Printing\n",
    "\n",
    "print(\"hello\")"
   ]
  },
  {
   "cell_type": "code",
   "execution_count": 4,
   "metadata": {},
   "outputs": [
    {
     "name": "stdout",
     "output_type": "stream",
     "text": [
      "hello\n"
     ]
    }
   ],
   "source": [
    "# variable assignment\n",
    "\n",
    "a=\"hello\"\n",
    "print(a)"
   ]
  },
  {
   "cell_type": "code",
   "execution_count": null,
   "metadata": {},
   "outputs": [],
   "source": [
    "# basic types - string,int,float\n",
    "\n",
    "astring=\"Hello\"\n",
    "\n",
    "aint=7\n",
    "\n",
    "afloat=3.2\n",
    "\n",
    "\n",
    "\n"
   ]
  },
  {
   "cell_type": "code",
   "execution_count": 8,
   "metadata": {},
   "outputs": [
    {
     "name": "stdout",
     "output_type": "stream",
     "text": [
      "['f', 'b', 'c']\n",
      "a\n"
     ]
    },
    {
     "ename": "TypeError",
     "evalue": "'tuple' object does not support item assignment",
     "output_type": "error",
     "traceback": [
      "\u001b[1;31m---------------------------------------------------------------------------\u001b[0m",
      "\u001b[1;31mTypeError\u001b[0m                                 Traceback (most recent call last)",
      "\u001b[1;32m<ipython-input-8-675717800abf>\u001b[0m in \u001b[0;36m<module>\u001b[1;34m\u001b[0m\n\u001b[0;32m     11\u001b[0m \u001b[0mprint\u001b[0m\u001b[1;33m(\u001b[0m\u001b[0matuple\u001b[0m\u001b[1;33m[\u001b[0m\u001b[1;36m0\u001b[0m\u001b[1;33m]\u001b[0m\u001b[1;33m)\u001b[0m\u001b[1;33m\u001b[0m\u001b[1;33m\u001b[0m\u001b[0m\n\u001b[0;32m     12\u001b[0m \u001b[1;33m\u001b[0m\u001b[0m\n\u001b[1;32m---> 13\u001b[1;33m \u001b[0matuple\u001b[0m\u001b[1;33m[\u001b[0m\u001b[1;36m0\u001b[0m\u001b[1;33m]\u001b[0m\u001b[1;33m=\u001b[0m\u001b[1;34m'f'\u001b[0m\u001b[1;33m\u001b[0m\u001b[1;33m\u001b[0m\u001b[0m\n\u001b[0m",
      "\u001b[1;31mTypeError\u001b[0m: 'tuple' object does not support item assignment"
     ]
    }
   ],
   "source": [
    "# List or Array and tuple\n",
    "\n",
    "alist=['a','b','c']\n",
    "\n",
    "alist[0]='f'\n",
    "\n",
    "print(alist)\n",
    "\n",
    "#atuple=(\"a\",\"b\")\n",
    "\n",
    "#print(atuple[0])\n",
    "\n",
    "#atuple[0]='f'"
   ]
  },
  {
   "cell_type": "code",
   "execution_count": 48,
   "metadata": {},
   "outputs": [
    {
     "name": "stdout",
     "output_type": "stream",
     "text": [
      "hell\n",
      "ll\n"
     ]
    }
   ],
   "source": [
    "#strings are an array of characters and we can slice them\n",
    "a=\"hello\"\n",
    "\n",
    "a[0]\n",
    "\n",
    "print(a[:-1])\n",
    "\n",
    "print(a[2:4])"
   ]
  },
  {
   "cell_type": "code",
   "execution_count": 15,
   "metadata": {},
   "outputs": [
    {
     "name": "stdout",
     "output_type": "stream",
     "text": [
      "[0, 0.5, 1, 1.5]\n"
     ]
    },
    {
     "ename": "AttributeError",
     "evalue": "'dict' object has no attribute 'wellname'",
     "output_type": "error",
     "traceback": [
      "\u001b[1;31m---------------------------------------------------------------------------\u001b[0m",
      "\u001b[1;31mAttributeError\u001b[0m                            Traceback (most recent call last)",
      "\u001b[1;32m<ipython-input-15-43e557ab7949>\u001b[0m in \u001b[0;36m<module>\u001b[1;34m\u001b[0m\n\u001b[0;32m      3\u001b[0m \u001b[0mmy_dictionary\u001b[0m\u001b[1;33m=\u001b[0m\u001b[1;33m{\u001b[0m\u001b[1;34m\"wellname\"\u001b[0m\u001b[1;33m:\u001b[0m\u001b[1;34m\"A 10\"\u001b[0m\u001b[1;33m,\u001b[0m\u001b[1;34m\"x\"\u001b[0m\u001b[1;33m:\u001b[0m\u001b[1;36m435609\u001b[0m\u001b[1;33m,\u001b[0m\u001b[1;34m\"y\"\u001b[0m\u001b[1;33m:\u001b[0m\u001b[1;36m67993548\u001b[0m\u001b[1;33m,\u001b[0m\u001b[1;34m\"elevation\"\u001b[0m\u001b[1;33m:\u001b[0m\u001b[1;36m24\u001b[0m\u001b[1;33m,\u001b[0m\u001b[1;34m\"md\"\u001b[0m\u001b[1;33m:\u001b[0m\u001b[1;33m[\u001b[0m\u001b[1;36m0\u001b[0m\u001b[1;33m,\u001b[0m\u001b[1;36m0.5\u001b[0m\u001b[1;33m,\u001b[0m\u001b[1;36m1\u001b[0m\u001b[1;33m,\u001b[0m\u001b[1;36m1.5\u001b[0m\u001b[1;33m]\u001b[0m\u001b[1;33m}\u001b[0m\u001b[1;33m\u001b[0m\u001b[1;33m\u001b[0m\u001b[0m\n\u001b[0;32m      4\u001b[0m \u001b[0mprint\u001b[0m\u001b[1;33m(\u001b[0m\u001b[0mmy_dictionary\u001b[0m\u001b[1;33m[\u001b[0m\u001b[1;34m'md'\u001b[0m\u001b[1;33m]\u001b[0m\u001b[1;33m)\u001b[0m\u001b[1;33m\u001b[0m\u001b[1;33m\u001b[0m\u001b[0m\n\u001b[1;32m----> 5\u001b[1;33m \u001b[0mprint\u001b[0m\u001b[1;33m(\u001b[0m\u001b[0mmy_dictionary\u001b[0m\u001b[1;33m.\u001b[0m\u001b[0mwellname\u001b[0m\u001b[1;33m)\u001b[0m\u001b[1;33m\u001b[0m\u001b[1;33m\u001b[0m\u001b[0m\n\u001b[0m\u001b[0;32m      6\u001b[0m \u001b[1;33m\u001b[0m\u001b[0m\n",
      "\u001b[1;31mAttributeError\u001b[0m: 'dict' object has no attribute 'wellname'"
     ]
    }
   ],
   "source": [
    "#dictionary - dictionaires are ways of structuring information - we will see later\n",
    "\n",
    "my_dictionary={\"wellname\":\"A 10\",\"x\":435609,\"y\":67993548,\"elevation\":24,\"md\":[0,0.5,1,1.5]}\n",
    "print(my_dictionary['md'])\n",
    "\n"
   ]
  },
  {
   "cell_type": "code",
   "execution_count": 18,
   "metadata": {},
   "outputs": [
    {
     "name": "stdout",
     "output_type": "stream",
     "text": [
      "[4, 5, 6, 4, 5, 6]\n"
     ]
    }
   ],
   "source": [
    "# Working with arrays\n",
    "\n",
    "alist=[4,5,6]\n",
    "print(alist*2)\n",
    "\n"
   ]
  },
  {
   "cell_type": "code",
   "execution_count": 10,
   "metadata": {},
   "outputs": [
    {
     "name": "stdout",
     "output_type": "stream",
     "text": [
      "[ 1  2  3  4  5  6  7  8  9 10 11 12 13 14 15 16 17 18 19 20 21 22 23 24\n",
      " 25 26 27 28 29 30 31 32 33 34 35 36 37 38 39 40 41 42 43 44 45 46 47 48\n",
      " 49 50 51 52 53 54 55 56 57 58 59 60 61 62 63 64 65 66 67 68 69 70 71 72\n",
      " 73 74 75 76 77 78 79 80 81 82 83 84 85 86 87 88 89 90 91 92 93 94 95 96\n",
      " 97 98 99]\n"
     ]
    }
   ],
   "source": [
    "import numpy as np\n",
    "data=np.arange(1,100,1)\n",
    "print(data)\n",
    "\n"
   ]
  },
  {
   "cell_type": "code",
   "execution_count": 21,
   "metadata": {},
   "outputs": [
    {
     "name": "stdout",
     "output_type": "stream",
     "text": [
      "[ 8 10 12]\n"
     ]
    }
   ],
   "source": [
    "numbers=np.array([4,5,6])\n",
    "print(numbers*2)"
   ]
  },
  {
   "cell_type": "code",
   "execution_count": 31,
   "metadata": {},
   "outputs": [
    {
     "name": "stdout",
     "output_type": "stream",
     "text": [
      "a\n",
      "b\n",
      "7\n",
      "c\n",
      "d\n",
      "0\n",
      "1\n",
      "2\n",
      "3\n",
      "4\n",
      "its a b\n",
      "7 is more than 5\n"
     ]
    }
   ],
   "source": [
    "# Loops and Control Statements\n",
    "\n",
    "x=[\"a\",\"b\",\"7\",\"c\",\"d\"]\n",
    "\n",
    "for a in x:\n",
    "    print(a)\n",
    "    \n",
    "for a in range(len(x)):\n",
    "    print(a)\n",
    "    \n",
    "    \n",
    "for a in x:\n",
    "    if a.isnumeric() and int(a)>5:\n",
    "      print(a+\" is more than 5\")\n",
    "    elif a ==\"b\":\n",
    "      print(\"its a b\")\n",
    "    \n"
   ]
  },
  {
   "cell_type": "code",
   "execution_count": 34,
   "metadata": {},
   "outputs": [
    {
     "data": {
      "text/plain": [
       "[False, False, True, False, False]"
      ]
     },
     "execution_count": 34,
     "metadata": {},
     "output_type": "execute_result"
    }
   ],
   "source": [
    "# list comprehension\n",
    "x=[\"a\",\"b\",\"7\",\"c\",\"d\"]\n",
    "\n",
    "results=[b.isnumeric() for b in x]\n",
    "results"
   ]
  },
  {
   "cell_type": "code",
   "execution_count": 37,
   "metadata": {},
   "outputs": [],
   "source": [
    "# functions\n",
    "\n",
    "def cacl_vshale(gr):\n",
    "    vshale=gr-20/120-20\n",
    "    return vshale\n",
    "\n"
   ]
  },
  {
   "cell_type": "code",
   "execution_count": 40,
   "metadata": {},
   "outputs": [
    {
     "data": {
      "text/plain": [
       "array([123.83333333,  19.83333333, 110.83333333,  97.83333333,\n",
       "       102.83333333,  51.83333333,  35.83333333,  88.83333333,\n",
       "        55.83333333,  -0.16666667, 104.83333333,  64.83333333,\n",
       "        32.83333333,  53.83333333, 119.83333333,  94.83333333,\n",
       "        42.83333333,  31.83333333,  91.83333333,  19.83333333,\n",
       "        16.83333333,  92.83333333, 102.83333333,  31.83333333,\n",
       "        92.83333333])"
      ]
     },
     "execution_count": 40,
     "metadata": {},
     "output_type": "execute_result"
    }
   ],
   "source": [
    "gr=np.random.randint(20, 150, 25)\n",
    "\n",
    "vshale=cacl_vshale(gr)\n",
    "vshale"
   ]
  },
  {
   "cell_type": "code",
   "execution_count": 41,
   "metadata": {},
   "outputs": [],
   "source": [
    "import matplotlib.pyplot as plt"
   ]
  },
  {
   "cell_type": "code",
   "execution_count": 42,
   "metadata": {},
   "outputs": [
    {
     "data": {
      "text/plain": [
       "<matplotlib.collections.PathCollection at 0x2384d5d9730>"
      ]
     },
     "execution_count": 42,
     "metadata": {},
     "output_type": "execute_result"
    },
    {
     "data": {
      "image/png": "[encoded data removed]",
      "text/plain": [
       "<Figure size 432x288 with 1 Axes>"
      ]
     },
     "metadata": {
      "needs_background": "light"
     },
     "output_type": "display_data"
    }
   ],
   "source": [
    "plt.scatter(gr,vshale)"
   ]
  },
  {
   "cell_type": "code",
   "execution_count": null,
   "metadata": {},
   "outputs": [],
   "source": []
  }
 ],
 "metadata": {
  "kernelspec": {
   "display_name": "Python 3",
   "language": "python",
   "name": "python3"
  },
  "language_info": {
   "codemirror_mode": {
    "name": "ipython",
    "version": 3
   },
   "file_extension": ".py",
   "mimetype": "text/x-python",
   "name": "python",
   "nbconvert_exporter": "python",
   "pygments_lexer": "ipython3",
   "version": "3.8.5"
  }
 },
 "nbformat": 4,
 "nbformat_minor": 4
}
