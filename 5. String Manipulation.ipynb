{
 "cells": [
  {
   "cell_type": "code",
   "execution_count": 1,
   "metadata": {},
   "outputs": [],
   "source": [
    "import pandas as pd"
   ]
  },
  {
   "cell_type": "code",
   "execution_count": 2,
   "metadata": {},
   "outputs": [],
   "source": [
    "data=pd.read_csv(r\"./datafiles/wells_lat_long.csv\",sep=\";\",engine='python')"
   ]
  },
  {
   "cell_type": "code",
   "execution_count": 3,
   "metadata": {},
   "outputs": [
    {
     "data": {
      "text/html": [
       "<div>\n",
       "<style scoped>\n",
       "    .dataframe tbody tr th:only-of-type {\n",
       "        vertical-align: middle;\n",
       "    }\n",
       "\n",
       "    .dataframe tbody tr th {\n",
       "        vertical-align: top;\n",
       "    }\n",
       "\n",
       "    .dataframe thead th {\n",
       "        text-align: right;\n",
       "    }\n",
       "</style>\n",
       "<table border=\"1\" class=\"dataframe\">\n",
       "  <thead>\n",
       "    <tr style=\"text-align: right;\">\n",
       "      <th></th>\n",
       "      <th>WellName</th>\n",
       "      <th>La</th>\n",
       "      <th>Lo</th>\n",
       "      <th>Latitude</th>\n",
       "      <th>Longitute</th>\n",
       "    </tr>\n",
       "  </thead>\n",
       "  <tbody>\n",
       "    <tr>\n",
       "      <th>0</th>\n",
       "      <td>25/10-9</td>\n",
       "      <td>59°06'34.6715\"N</td>\n",
       "      <td>2°10'7.7990\"E</td>\n",
       "      <td>59.063467</td>\n",
       "      <td>2.107099</td>\n",
       "    </tr>\n",
       "    <tr>\n",
       "      <th>1</th>\n",
       "      <td>25/10-11</td>\n",
       "      <td>59°12'48.0601\"N</td>\n",
       "      <td>2°07'42.2901\"E</td>\n",
       "      <td>59.124806</td>\n",
       "      <td>2.074229</td>\n",
       "    </tr>\n",
       "    <tr>\n",
       "      <th>2</th>\n",
       "      <td>25/9-2 S</td>\n",
       "      <td>59°22'56.2586\"N</td>\n",
       "      <td>2°41'46.8889\"E</td>\n",
       "      <td>59.225626</td>\n",
       "      <td>2.414689</td>\n",
       "    </tr>\n",
       "    <tr>\n",
       "      <th>3</th>\n",
       "      <td>25/10-12 S</td>\n",
       "      <td>59°02'36.7000\"N</td>\n",
       "      <td>2°18'13.0998\"E</td>\n",
       "      <td>59.023670</td>\n",
       "      <td>2.181310</td>\n",
       "    </tr>\n",
       "    <tr>\n",
       "      <th>4</th>\n",
       "      <td>25/2-18 B</td>\n",
       "      <td>59°49'30.1101\"N</td>\n",
       "      <td>2°37'54.1001\"E</td>\n",
       "      <td>59.493011</td>\n",
       "      <td>2.375410</td>\n",
       "    </tr>\n",
       "  </tbody>\n",
       "</table>\n",
       "</div>"
      ],
      "text/plain": [
       "     WellName               La              Lo   Latitude  Longitute\n",
       "0     25/10-9  59°06'34.6715\"N   2°10'7.7990\"E  59.063467   2.107099\n",
       "1    25/10-11  59°12'48.0601\"N  2°07'42.2901\"E  59.124806   2.074229\n",
       "2    25/9-2 S  59°22'56.2586\"N  2°41'46.8889\"E  59.225626   2.414689\n",
       "3  25/10-12 S  59°02'36.7000\"N  2°18'13.0998\"E  59.023670   2.181310\n",
       "4   25/2-18 B  59°49'30.1101\"N  2°37'54.1001\"E  59.493011   2.375410"
      ]
     },
     "execution_count": 3,
     "metadata": {},
     "output_type": "execute_result"
    }
   ],
   "source": [
    "data.head()"
   ]
  },
  {
   "cell_type": "code",
   "execution_count": 4,
   "metadata": {},
   "outputs": [
    {
     "name": "stdout",
     "output_type": "stream",
     "text": [
      "59.06346715\n",
      "59.12480601\n",
      "59.22562586\n",
      "59.02367000\n",
      "59.49301101\n"
     ]
    }
   ],
   "source": [
    "for a in data['La'].head().values:\n",
    "    l1=a[:2]\n",
    "    l2=a[3:5]\n",
    "    if a[7].isnumeric() == False:\n",
    "        l3=a[6]+\"0\" \n",
    "        l4=a[8:12]\n",
    "    else:\n",
    "        l3=a[6:8]\n",
    "        l4=a[9:13]\n",
    "    print(l1+\".\"+l2+l3+l4)\n",
    "    \n",
    "    \n",
    "    "
   ]
  },
  {
   "cell_type": "markdown",
   "metadata": {},
   "source": [
    "# Regular Experssions\n",
    "https://regexr.com/\n",
    "\n",
    "Extract from text/strings using patterns"
   ]
  },
  {
   "cell_type": "code",
   "execution_count": 19,
   "metadata": {},
   "outputs": [],
   "source": [
    "import re"
   ]
  },
  {
   "cell_type": "code",
   "execution_count": 20,
   "metadata": {},
   "outputs": [
    {
     "name": "stdout",
     "output_type": "stream",
     "text": [
      "['10']\n"
     ]
    }
   ],
   "source": [
    "name=\"25/10-11\"\n",
    "\n",
    "print(re.findall(r\"\\d+(?=-)\", name))\n",
    "\n",
    "# \\d any digit\n",
    "# + one or more preceeding token\n",
    "# ?= look ahead without including token\n",
    "\n",
    "\n",
    "\n"
   ]
  },
  {
   "cell_type": "code",
   "execution_count": 21,
   "metadata": {},
   "outputs": [
    {
     "name": "stdout",
     "output_type": "stream",
     "text": [
      "['25']\n"
     ]
    }
   ],
   "source": [
    "print(re.findall(r\"\\d+(?=/)\", name))"
   ]
  },
  {
   "cell_type": "code",
   "execution_count": 22,
   "metadata": {},
   "outputs": [
    {
     "name": "stdout",
     "output_type": "stream",
     "text": [
      "['B']\n"
     ]
    }
   ],
   "source": [
    "name=\"25/2-18 B\"\n",
    "print(re.findall(r\"\\s(.)\", name))\n",
    "\n",
    "\n",
    "# \\s sapce\n",
    "\n",
    "# . any charcater"
   ]
  },
  {
   "cell_type": "code",
   "execution_count": 34,
   "metadata": {},
   "outputs": [
    {
     "name": "stdout",
     "output_type": "stream",
     "text": [
      "['5', '9', '0', '6', '3', '4', '6', '7', '1', '5']\n",
      "5906346715\n"
     ]
    },
    {
     "data": {
      "text/plain": [
       "59.06346715"
      ]
     },
     "execution_count": 34,
     "metadata": {},
     "output_type": "execute_result"
    }
   ],
   "source": [
    "lat=\"59°06'34.6715N\"\n",
    "print(re.findall(r\"\\d\", lat))\n",
    "lat_fix=string = ''.join(re.findall(r\"\\d\", lat))\n",
    "\n",
    "print(lat_fix)\n",
    "lat_float=float(lat_fix[:2]+\".\"+lat_fix[2:])\n",
    "lat_float"
   ]
  },
  {
   "cell_type": "markdown",
   "metadata": {},
   "source": [
    "# Search and Replace"
   ]
  },
  {
   "cell_type": "code",
   "execution_count": 35,
   "metadata": {},
   "outputs": [
    {
     "data": {
      "text/html": [
       "<div>\n",
       "<style scoped>\n",
       "    .dataframe tbody tr th:only-of-type {\n",
       "        vertical-align: middle;\n",
       "    }\n",
       "\n",
       "    .dataframe tbody tr th {\n",
       "        vertical-align: top;\n",
       "    }\n",
       "\n",
       "    .dataframe thead th {\n",
       "        text-align: right;\n",
       "    }\n",
       "</style>\n",
       "<table border=\"1\" class=\"dataframe\">\n",
       "  <thead>\n",
       "    <tr style=\"text-align: right;\">\n",
       "      <th></th>\n",
       "      <th>WellName</th>\n",
       "      <th>La</th>\n",
       "      <th>Lo</th>\n",
       "      <th>Latitude</th>\n",
       "      <th>Longitute</th>\n",
       "    </tr>\n",
       "  </thead>\n",
       "  <tbody>\n",
       "    <tr>\n",
       "      <th>0</th>\n",
       "      <td>25/10-9</td>\n",
       "      <td>59°06'34.6715\"N</td>\n",
       "      <td>2°10'7.7990\"E</td>\n",
       "      <td>59.063467</td>\n",
       "      <td>2.107099</td>\n",
       "    </tr>\n",
       "    <tr>\n",
       "      <th>1</th>\n",
       "      <td>25/10-11</td>\n",
       "      <td>59°12'48.0601\"N</td>\n",
       "      <td>2°07'42.2901\"E</td>\n",
       "      <td>59.124806</td>\n",
       "      <td>2.074229</td>\n",
       "    </tr>\n",
       "    <tr>\n",
       "      <th>2</th>\n",
       "      <td>25/9-2 Sidetrack</td>\n",
       "      <td>59°22'56.2586\"N</td>\n",
       "      <td>2°41'46.8889\"E</td>\n",
       "      <td>59.225626</td>\n",
       "      <td>2.414689</td>\n",
       "    </tr>\n",
       "    <tr>\n",
       "      <th>3</th>\n",
       "      <td>25/10-12 Sidetrack</td>\n",
       "      <td>59°02'36.7000\"N</td>\n",
       "      <td>2°18'13.0998\"E</td>\n",
       "      <td>59.023670</td>\n",
       "      <td>2.181310</td>\n",
       "    </tr>\n",
       "    <tr>\n",
       "      <th>4</th>\n",
       "      <td>25/2-18 B</td>\n",
       "      <td>59°49'30.1101\"N</td>\n",
       "      <td>2°37'54.1001\"E</td>\n",
       "      <td>59.493011</td>\n",
       "      <td>2.375410</td>\n",
       "    </tr>\n",
       "  </tbody>\n",
       "</table>\n",
       "</div>"
      ],
      "text/plain": [
       "             WellName               La              Lo   Latitude  Longitute\n",
       "0             25/10-9  59°06'34.6715\"N   2°10'7.7990\"E  59.063467   2.107099\n",
       "1            25/10-11  59°12'48.0601\"N  2°07'42.2901\"E  59.124806   2.074229\n",
       "2    25/9-2 Sidetrack  59°22'56.2586\"N  2°41'46.8889\"E  59.225626   2.414689\n",
       "3  25/10-12 Sidetrack  59°02'36.7000\"N  2°18'13.0998\"E  59.023670   2.181310\n",
       "4           25/2-18 B  59°49'30.1101\"N  2°37'54.1001\"E  59.493011   2.375410"
      ]
     },
     "execution_count": 35,
     "metadata": {},
     "output_type": "execute_result"
    }
   ],
   "source": [
    "# .replace\n",
    "\n",
    "data['WellName'].replace(\"S\",\"Sidetrack\",regex=True,inplace=True)\n",
    "data.head()"
   ]
  },
  {
   "cell_type": "code",
   "execution_count": 37,
   "metadata": {},
   "outputs": [
    {
     "name": "stdout",
     "output_type": "stream",
     "text": [
      "this is just a mess\n"
     ]
    }
   ],
   "source": [
    "text=\"this is just a test\"\n",
    "print(text.replace(\"test\",\"mess\"))"
   ]
  },
  {
   "cell_type": "code",
   "execution_count": 38,
   "metadata": {},
   "outputs": [
    {
     "name": "stdout",
     "output_type": "stream",
     "text": [
      "this is just a test\n"
     ]
    }
   ],
   "source": [
    "print(text)"
   ]
  },
  {
   "cell_type": "code",
   "execution_count": null,
   "metadata": {},
   "outputs": [],
   "source": []
  }
 ],
 "metadata": {
  "kernelspec": {
   "display_name": "Python 3",
   "language": "python",
   "name": "python3"
  },
  "language_info": {
   "codemirror_mode": {
    "name": "ipython",
    "version": 3
   },
   "file_extension": ".py",
   "mimetype": "text/x-python",
   "name": "python",
   "nbconvert_exporter": "python",
   "pygments_lexer": "ipython3",
   "version": "3.8.5"
  }
 },
 "nbformat": 4,
 "nbformat_minor": 4
}
